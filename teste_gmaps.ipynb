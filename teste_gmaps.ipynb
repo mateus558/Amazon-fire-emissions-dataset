{
 "metadata": {
  "language_info": {
   "codemirror_mode": {
    "name": "ipython",
    "version": 3
   },
   "file_extension": ".py",
   "mimetype": "text/x-python",
   "name": "python",
   "nbconvert_exporter": "python",
   "pygments_lexer": "ipython3",
   "version": "3.7.6-final"
  },
  "orig_nbformat": 2,
  "kernelspec": {
   "name": "python37664bitbasecondabf5b2a144bd240adb9ab38fa9b1e2794",
   "display_name": "Python 3.7.6 64-bit ('base': conda)"
  }
 },
 "nbformat": 4,
 "nbformat_minor": 2,
 "cells": [
  {
   "cell_type": "code",
   "execution_count": 28,
   "metadata": {
    "tags": []
   },
   "outputs": [
    {
     "output_type": "stream",
     "name": "stdout",
     "text": "Enabling notebook extension jupyter-gmaps/extension...\n      - Validating: \u001b[32mOK\u001b[0m\n"
    }
   ],
   "source": [
    "!jupyter nbextension enable --py gmaps"
   ]
  },
  {
   "cell_type": "code",
   "execution_count": 31,
   "metadata": {
    "tags": []
   },
   "outputs": [],
   "source": [
    "from INPEapi.BDQueimadas import BDQueimadas\n",
    "import pandas as pd\n",
    "import gmaps\n",
    "import os\n",
    "\n"
   ]
  },
  {
   "cell_type": "code",
   "execution_count": 32,
   "metadata": {},
   "outputs": [],
   "source": [
    "gmaps.configure(api_key='')"
   ]
  },
  {
   "cell_type": "code",
   "execution_count": 6,
   "metadata": {
    "tags": []
   },
   "outputs": [
    {
     "output_type": "stream",
     "name": "stdout",
     "text": "{'geometry': {'type': 'Point', 'coordinates': [-54.82, -2.96]}, 'properties': {'risco_fogo': None, 'longitude': -54.82, 'data_hora_gmt': '2020-09-25T14:35:10+00:00', 'precipitacao': None, 'latitude': -2.96, 'pais': 'Brasil', 'numero_dias_sem_chuva': None, 'estado': 'PARÁ', 'municipio': 'MOJUÍ DOS CAMPOS', 'satelite': 'GOES-16'}, 'type': 'Feature', 'id': 'focos_ams_24h.36e13a87-e2d9-3c9f-9e7a-76c18a08cd1f', 'geometry_name': 'geom'}\n"
    }
   ],
   "source": [
    "api = BDQueimadas()\n",
    "result = api.make_request()\n",
    "print(result[0])\n"
   ]
  },
  {
   "cell_type": "code",
   "execution_count": 18,
   "metadata": {
    "tags": []
   },
   "outputs": [],
   "source": [
    "columns = [column for column, _ in result[0]['properties'].items()]\n",
    "df = pd.DataFrame(columns=columns)\n",
    "\n",
    "for i in range(len(result)):\n",
    "    df = df.append(pd.DataFrame.from_dict(result[i]['properties'],orient='index').T)\n",
    "\n"
   ]
  },
  {
   "cell_type": "code",
   "execution_count": 33,
   "metadata": {},
   "outputs": [
    {
     "output_type": "display_data",
     "data": {
      "text/plain": "Figure(layout=FigureLayout(height='420px'))",
      "application/vnd.jupyter.widget-view+json": {
       "version_major": 2,
       "version_minor": 0,
       "model_id": "f31ad3efc20f4eb89ba99fffd46cb8fa"
      }
     },
     "metadata": {}
    }
   ],
   "source": [
    "index = [i for i in range(len(result))]\n",
    "\n",
    "df.index = index\n",
    "df\n",
    "gmaps.figure(center=(df.loc[0]['latitude'], df.loc[0]['longitude']), zoom_level=12)\n"
   ]
  },
  {
   "cell_type": "code",
   "execution_count": null,
   "metadata": {},
   "outputs": [],
   "source": []
  }
 ]
}